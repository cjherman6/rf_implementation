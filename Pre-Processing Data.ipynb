{
 "cells": [
  {
   "cell_type": "code",
   "execution_count": 1,
   "metadata": {},
   "outputs": [],
   "source": [
    "import re, os, feather\n",
    "import numpy as np\n",
    "import pandas as pd\n",
    "from sklearn.ensemble import RandomForestRegressor"
   ]
  },
  {
   "cell_type": "markdown",
   "metadata": {},
   "source": [
    "### Load Data (parse datetimes)"
   ]
  },
  {
   "cell_type": "code",
   "execution_count": 2,
   "metadata": {},
   "outputs": [],
   "source": [
    "# % time df_raw = pd.read_csv('tmp_data/Train.csv', low_memory=False, parse_dates=[\"saledate\"])"
   ]
  },
  {
   "cell_type": "markdown",
   "metadata": {},
   "source": [
    "#### Save as Feather"
   ]
  },
  {
   "cell_type": "code",
   "execution_count": 3,
   "metadata": {},
   "outputs": [],
   "source": [
    "# os.makedirs('tmp_data', exist_ok=True)\n",
    "# %time df_raw.to_feather('tmp_data/raw_data')"
   ]
  },
  {
   "cell_type": "code",
   "execution_count": 4,
   "metadata": {},
   "outputs": [
    {
     "name": "stdout",
     "output_type": "stream",
     "text": [
      "CPU times: user 1.15 s, sys: 1.25 s, total: 2.4 s\n",
      "Wall time: 4.96 s\n"
     ]
    }
   ],
   "source": [
    "%time df_raw = pd.read_feather('tmp_data/raw_data')"
   ]
  },
  {
   "cell_type": "markdown",
   "metadata": {},
   "source": [
    "### Check Data Types"
   ]
  },
  {
   "cell_type": "code",
   "execution_count": 5,
   "metadata": {
    "scrolled": true
   },
   "outputs": [
    {
     "name": "stdout",
     "output_type": "stream",
     "text": [
      "<class 'pandas.core.frame.DataFrame'>\n",
      "RangeIndex: 401125 entries, 0 to 401124\n",
      "Data columns (total 53 columns):\n",
      "SalesID                     401125 non-null int64\n",
      "SalePrice                   401125 non-null int64\n",
      "MachineID                   401125 non-null int64\n",
      "ModelID                     401125 non-null int64\n",
      "datasource                  401125 non-null int64\n",
      "auctioneerID                380989 non-null float64\n",
      "YearMade                    401125 non-null int64\n",
      "MachineHoursCurrentMeter    142765 non-null float64\n",
      "UsageBand                   69639 non-null object\n",
      "saledate                    401125 non-null datetime64[ns]\n",
      "fiModelDesc                 401125 non-null object\n",
      "fiBaseModel                 401125 non-null object\n",
      "fiSecondaryDesc             263934 non-null object\n",
      "fiModelSeries               56908 non-null object\n",
      "fiModelDescriptor           71919 non-null object\n",
      "ProductSize                 190350 non-null object\n",
      "fiProductClassDesc          401125 non-null object\n",
      "state                       401125 non-null object\n",
      "ProductGroup                401125 non-null object\n",
      "ProductGroupDesc            401125 non-null object\n",
      "Drive_System                104361 non-null object\n",
      "Enclosure                   400800 non-null object\n",
      "Forks                       192077 non-null object\n",
      "Pad_Type                    79134 non-null object\n",
      "Ride_Control                148606 non-null object\n",
      "Stick                       79134 non-null object\n",
      "Transmission                183230 non-null object\n",
      "Turbocharged                79134 non-null object\n",
      "Blade_Extension             25219 non-null object\n",
      "Blade_Width                 25219 non-null object\n",
      "Enclosure_Type              25219 non-null object\n",
      "Engine_Horsepower           25219 non-null object\n",
      "Hydraulics                  320570 non-null object\n",
      "Pushblock                   25219 non-null object\n",
      "Ripper                      104137 non-null object\n",
      "Scarifier                   25230 non-null object\n",
      "Tip_Control                 25219 non-null object\n",
      "Tire_Size                   94718 non-null object\n",
      "Coupler                     213952 non-null object\n",
      "Coupler_System              43458 non-null object\n",
      "Grouser_Tracks              43362 non-null object\n",
      "Hydraulics_Flow             43362 non-null object\n",
      "Track_Type                  99153 non-null object\n",
      "Undercarriage_Pad_Width     99872 non-null object\n",
      "Stick_Length                99218 non-null object\n",
      "Thumb                       99288 non-null object\n",
      "Pattern_Changer             99218 non-null object\n",
      "Grouser_Type                99153 non-null object\n",
      "Backhoe_Mounting            78672 non-null object\n",
      "Blade_Type                  79833 non-null object\n",
      "Travel_Controls             79834 non-null object\n",
      "Differential_Type           69411 non-null object\n",
      "Steering_Controls           69369 non-null object\n",
      "dtypes: datetime64[ns](1), float64(2), int64(6), object(44)\n",
      "memory usage: 162.2+ MB\n"
     ]
    }
   ],
   "source": [
    "df_raw.info()"
   ]
  },
  {
   "cell_type": "markdown",
   "metadata": {},
   "source": [
    "### Convert Non-Numerical Data to Categories and their Codes"
   ]
  },
  {
   "cell_type": "code",
   "execution_count": 6,
   "metadata": {},
   "outputs": [],
   "source": [
    "def non_numeric_to_cat(dataframe):\n",
    "    '''Selects all non numeric columns and turns them into categories'''\n",
    "    df_cats = dataframe.copy()\n",
    "    non_numeric = dataframe.select_dtypes(exclude=['int','float','datetime']).columns\n",
    "    df_cats[non_numeric] = df_cats[non_numeric].apply(lambda x: x.astype('category'))\n",
    "    return df_cats"
   ]
  },
  {
   "cell_type": "markdown",
   "metadata": {},
   "source": [
    "### Convert NaN values for Numerical Variables\n",
    "#### Fill Nan values with column median and create a new column + _is_null to detect if null values are significant\n",
    "#### Create a dictionary with column_name as key, and column_median as value"
   ]
  },
  {
   "cell_type": "code",
   "execution_count": 7,
   "metadata": {},
   "outputs": [],
   "source": [
    "def null_column_add(dataframe):\n",
    "    '''Fill Nan values with column median and create a new column + _is_null to use to detect if null values are significant\n",
    "    Also creates a dictionary with column_name as key, and column_median as value'''\n",
    "    na_dict = {}\n",
    "    numeric = dataframe.select_dtypes(include=['int','float'])\n",
    "    interp_data = dataframe.copy()\n",
    "    for col in numeric:\n",
    "        if dataframe[col].isnull().sum():\n",
    "            col_median = dataframe[col].median()\n",
    "            na_dict[col] = col_median\n",
    "            interp_data[col+'_is_null'] = dataframe[col].isnull()\n",
    "            interp_data[col] = dataframe[col].fillna(col_median) \n",
    "    return interp_data, na_dict"
   ]
  },
  {
   "cell_type": "markdown",
   "metadata": {},
   "source": [
    "### Make 2 copies: 1 for feeding into the model and 1 for keeping variable labels"
   ]
  },
  {
   "cell_type": "code",
   "execution_count": 8,
   "metadata": {},
   "outputs": [],
   "source": [
    "def process_dataframe(dataframe):\n",
    "    '''Selects all non numeric columns and turns them into categorical codes'''\n",
    "    df_cats = non_numeric_to_cat(dataframe)\n",
    "    interp_data,na_dict = null_column_add(df_cats)\n",
    "    cat_cols = interp_data.select_dtypes(['category']).columns\n",
    "    model_data = interp_data.copy()\n",
    "    model_data[cat_cols] = interp_data[cat_cols].apply(lambda x: x.cat.codes)\n",
    "    return interp_data, model_data, na_dict"
   ]
  },
  {
   "cell_type": "code",
   "execution_count": 9,
   "metadata": {},
   "outputs": [],
   "source": [
    "interp_data, model_data, na_dict = process_dataframe(df_raw)"
   ]
  },
  {
   "cell_type": "code",
   "execution_count": 10,
   "metadata": {},
   "outputs": [
    {
     "data": {
      "text/plain": [
       "{'auctioneerID': 2.0, 'MachineHoursCurrentMeter': 0.0}"
      ]
     },
     "execution_count": 10,
     "metadata": {},
     "output_type": "execute_result"
    }
   ],
   "source": [
    "na_dict"
   ]
  },
  {
   "cell_type": "code",
   "execution_count": 11,
   "metadata": {},
   "outputs": [
    {
     "name": "stdout",
     "output_type": "stream",
     "text": [
      "<class 'pandas.core.frame.DataFrame'>\n",
      "RangeIndex: 401125 entries, 0 to 401124\n",
      "Data columns (total 55 columns):\n",
      "SalesID                             401125 non-null int64\n",
      "SalePrice                           401125 non-null int64\n",
      "MachineID                           401125 non-null int64\n",
      "ModelID                             401125 non-null int64\n",
      "datasource                          401125 non-null int64\n",
      "auctioneerID                        401125 non-null float64\n",
      "YearMade                            401125 non-null int64\n",
      "MachineHoursCurrentMeter            401125 non-null float64\n",
      "UsageBand                           69639 non-null category\n",
      "saledate                            401125 non-null datetime64[ns]\n",
      "fiModelDesc                         401125 non-null category\n",
      "fiBaseModel                         401125 non-null category\n",
      "fiSecondaryDesc                     263934 non-null category\n",
      "fiModelSeries                       56908 non-null category\n",
      "fiModelDescriptor                   71919 non-null category\n",
      "ProductSize                         190350 non-null category\n",
      "fiProductClassDesc                  401125 non-null category\n",
      "state                               401125 non-null category\n",
      "ProductGroup                        401125 non-null category\n",
      "ProductGroupDesc                    401125 non-null category\n",
      "Drive_System                        104361 non-null category\n",
      "Enclosure                           400800 non-null category\n",
      "Forks                               192077 non-null category\n",
      "Pad_Type                            79134 non-null category\n",
      "Ride_Control                        148606 non-null category\n",
      "Stick                               79134 non-null category\n",
      "Transmission                        183230 non-null category\n",
      "Turbocharged                        79134 non-null category\n",
      "Blade_Extension                     25219 non-null category\n",
      "Blade_Width                         25219 non-null category\n",
      "Enclosure_Type                      25219 non-null category\n",
      "Engine_Horsepower                   25219 non-null category\n",
      "Hydraulics                          320570 non-null category\n",
      "Pushblock                           25219 non-null category\n",
      "Ripper                              104137 non-null category\n",
      "Scarifier                           25230 non-null category\n",
      "Tip_Control                         25219 non-null category\n",
      "Tire_Size                           94718 non-null category\n",
      "Coupler                             213952 non-null category\n",
      "Coupler_System                      43458 non-null category\n",
      "Grouser_Tracks                      43362 non-null category\n",
      "Hydraulics_Flow                     43362 non-null category\n",
      "Track_Type                          99153 non-null category\n",
      "Undercarriage_Pad_Width             99872 non-null category\n",
      "Stick_Length                        99218 non-null category\n",
      "Thumb                               99288 non-null category\n",
      "Pattern_Changer                     99218 non-null category\n",
      "Grouser_Type                        99153 non-null category\n",
      "Backhoe_Mounting                    78672 non-null category\n",
      "Blade_Type                          79833 non-null category\n",
      "Travel_Controls                     79834 non-null category\n",
      "Differential_Type                   69411 non-null category\n",
      "Steering_Controls                   69369 non-null category\n",
      "auctioneerID_is_null                401125 non-null bool\n",
      "MachineHoursCurrentMeter_is_null    401125 non-null bool\n",
      "dtypes: bool(2), category(44), datetime64[ns](1), float64(2), int64(6)\n",
      "memory usage: 47.0 MB\n"
     ]
    }
   ],
   "source": [
    "interp_data.info()"
   ]
  },
  {
   "cell_type": "code",
   "execution_count": 12,
   "metadata": {},
   "outputs": [
    {
     "name": "stdout",
     "output_type": "stream",
     "text": [
      "<class 'pandas.core.frame.DataFrame'>\n",
      "RangeIndex: 401125 entries, 0 to 401124\n",
      "Data columns (total 55 columns):\n",
      "SalesID                             401125 non-null int64\n",
      "SalePrice                           401125 non-null int64\n",
      "MachineID                           401125 non-null int64\n",
      "ModelID                             401125 non-null int64\n",
      "datasource                          401125 non-null int64\n",
      "auctioneerID                        401125 non-null float64\n",
      "YearMade                            401125 non-null int64\n",
      "MachineHoursCurrentMeter            401125 non-null float64\n",
      "UsageBand                           401125 non-null int8\n",
      "saledate                            401125 non-null datetime64[ns]\n",
      "fiModelDesc                         401125 non-null int16\n",
      "fiBaseModel                         401125 non-null int16\n",
      "fiSecondaryDesc                     401125 non-null int16\n",
      "fiModelSeries                       401125 non-null int8\n",
      "fiModelDescriptor                   401125 non-null int16\n",
      "ProductSize                         401125 non-null int8\n",
      "fiProductClassDesc                  401125 non-null int8\n",
      "state                               401125 non-null int8\n",
      "ProductGroup                        401125 non-null int8\n",
      "ProductGroupDesc                    401125 non-null int8\n",
      "Drive_System                        401125 non-null int8\n",
      "Enclosure                           401125 non-null int8\n",
      "Forks                               401125 non-null int8\n",
      "Pad_Type                            401125 non-null int8\n",
      "Ride_Control                        401125 non-null int8\n",
      "Stick                               401125 non-null int8\n",
      "Transmission                        401125 non-null int8\n",
      "Turbocharged                        401125 non-null int8\n",
      "Blade_Extension                     401125 non-null int8\n",
      "Blade_Width                         401125 non-null int8\n",
      "Enclosure_Type                      401125 non-null int8\n",
      "Engine_Horsepower                   401125 non-null int8\n",
      "Hydraulics                          401125 non-null int8\n",
      "Pushblock                           401125 non-null int8\n",
      "Ripper                              401125 non-null int8\n",
      "Scarifier                           401125 non-null int8\n",
      "Tip_Control                         401125 non-null int8\n",
      "Tire_Size                           401125 non-null int8\n",
      "Coupler                             401125 non-null int8\n",
      "Coupler_System                      401125 non-null int8\n",
      "Grouser_Tracks                      401125 non-null int8\n",
      "Hydraulics_Flow                     401125 non-null int8\n",
      "Track_Type                          401125 non-null int8\n",
      "Undercarriage_Pad_Width             401125 non-null int8\n",
      "Stick_Length                        401125 non-null int8\n",
      "Thumb                               401125 non-null int8\n",
      "Pattern_Changer                     401125 non-null int8\n",
      "Grouser_Type                        401125 non-null int8\n",
      "Backhoe_Mounting                    401125 non-null int8\n",
      "Blade_Type                          401125 non-null int8\n",
      "Travel_Controls                     401125 non-null int8\n",
      "Differential_Type                   401125 non-null int8\n",
      "Steering_Controls                   401125 non-null int8\n",
      "auctioneerID_is_null                401125 non-null bool\n",
      "MachineHoursCurrentMeter_is_null    401125 non-null bool\n",
      "dtypes: bool(2), datetime64[ns](1), float64(2), int16(4), int64(6), int8(40)\n",
      "memory usage: 46.7 MB\n"
     ]
    }
   ],
   "source": [
    "model_data.info()"
   ]
  },
  {
   "cell_type": "markdown",
   "metadata": {},
   "source": [
    "### Add Datepart"
   ]
  },
  {
   "cell_type": "code",
   "execution_count": 13,
   "metadata": {},
   "outputs": [],
   "source": [
    "def add_datepart(df, fldname, drop=True, time=False, errors=\"raise\"):   \n",
    "    fld = df[fldname]\n",
    "    fld_dtype = fld.dtype\n",
    "    if isinstance(fld_dtype, pd.core.dtypes.dtypes.DatetimeTZDtype):\n",
    "        fld_dtype = np.datetime64\n",
    "\n",
    "    if not np.issubdtype(fld_dtype, np.datetime64):\n",
    "        df[fldname] = fld = pd.to_datetime(fld, infer_datetime_format=True, errors=errors)\n",
    "    targ_pre = re.sub('[Dd]ate$', '', fldname)\n",
    "    attr = ['Year', 'Month', 'Week', 'Day', 'Dayofweek', 'Dayofyear',\n",
    "            'Is_month_end', 'Is_month_start', 'Is_quarter_end', 'Is_quarter_start', 'Is_year_end', 'Is_year_start']\n",
    "    if time: attr = attr + ['Hour', 'Minute', 'Second']\n",
    "    for n in attr: df[targ_pre + n] = getattr(fld.dt, n.lower())\n",
    "    df[targ_pre + 'Elapsed'] = fld.astype(np.int64) // 10 ** 9\n",
    "    if drop: df.drop(fldname, axis=1, inplace=True)"
   ]
  },
  {
   "cell_type": "code",
   "execution_count": 14,
   "metadata": {},
   "outputs": [],
   "source": [
    "add_datepart(interp_data, 'saledate')\n",
    "add_datepart(model_data, 'saledate')"
   ]
  },
  {
   "cell_type": "code",
   "execution_count": 15,
   "metadata": {},
   "outputs": [
    {
     "name": "stdout",
     "output_type": "stream",
     "text": [
      "<class 'pandas.core.frame.DataFrame'>\n",
      "RangeIndex: 401125 entries, 0 to 401124\n",
      "Data columns (total 67 columns):\n",
      "SalesID                             401125 non-null int64\n",
      "SalePrice                           401125 non-null int64\n",
      "MachineID                           401125 non-null int64\n",
      "ModelID                             401125 non-null int64\n",
      "datasource                          401125 non-null int64\n",
      "auctioneerID                        401125 non-null float64\n",
      "YearMade                            401125 non-null int64\n",
      "MachineHoursCurrentMeter            401125 non-null float64\n",
      "UsageBand                           401125 non-null int8\n",
      "fiModelDesc                         401125 non-null int16\n",
      "fiBaseModel                         401125 non-null int16\n",
      "fiSecondaryDesc                     401125 non-null int16\n",
      "fiModelSeries                       401125 non-null int8\n",
      "fiModelDescriptor                   401125 non-null int16\n",
      "ProductSize                         401125 non-null int8\n",
      "fiProductClassDesc                  401125 non-null int8\n",
      "state                               401125 non-null int8\n",
      "ProductGroup                        401125 non-null int8\n",
      "ProductGroupDesc                    401125 non-null int8\n",
      "Drive_System                        401125 non-null int8\n",
      "Enclosure                           401125 non-null int8\n",
      "Forks                               401125 non-null int8\n",
      "Pad_Type                            401125 non-null int8\n",
      "Ride_Control                        401125 non-null int8\n",
      "Stick                               401125 non-null int8\n",
      "Transmission                        401125 non-null int8\n",
      "Turbocharged                        401125 non-null int8\n",
      "Blade_Extension                     401125 non-null int8\n",
      "Blade_Width                         401125 non-null int8\n",
      "Enclosure_Type                      401125 non-null int8\n",
      "Engine_Horsepower                   401125 non-null int8\n",
      "Hydraulics                          401125 non-null int8\n",
      "Pushblock                           401125 non-null int8\n",
      "Ripper                              401125 non-null int8\n",
      "Scarifier                           401125 non-null int8\n",
      "Tip_Control                         401125 non-null int8\n",
      "Tire_Size                           401125 non-null int8\n",
      "Coupler                             401125 non-null int8\n",
      "Coupler_System                      401125 non-null int8\n",
      "Grouser_Tracks                      401125 non-null int8\n",
      "Hydraulics_Flow                     401125 non-null int8\n",
      "Track_Type                          401125 non-null int8\n",
      "Undercarriage_Pad_Width             401125 non-null int8\n",
      "Stick_Length                        401125 non-null int8\n",
      "Thumb                               401125 non-null int8\n",
      "Pattern_Changer                     401125 non-null int8\n",
      "Grouser_Type                        401125 non-null int8\n",
      "Backhoe_Mounting                    401125 non-null int8\n",
      "Blade_Type                          401125 non-null int8\n",
      "Travel_Controls                     401125 non-null int8\n",
      "Differential_Type                   401125 non-null int8\n",
      "Steering_Controls                   401125 non-null int8\n",
      "auctioneerID_is_null                401125 non-null bool\n",
      "MachineHoursCurrentMeter_is_null    401125 non-null bool\n",
      "saleYear                            401125 non-null int64\n",
      "saleMonth                           401125 non-null int64\n",
      "saleWeek                            401125 non-null int64\n",
      "saleDay                             401125 non-null int64\n",
      "saleDayofweek                       401125 non-null int64\n",
      "saleDayofyear                       401125 non-null int64\n",
      "saleIs_month_end                    401125 non-null bool\n",
      "saleIs_month_start                  401125 non-null bool\n",
      "saleIs_quarter_end                  401125 non-null bool\n",
      "saleIs_quarter_start                401125 non-null bool\n",
      "saleIs_year_end                     401125 non-null bool\n",
      "saleIs_year_start                   401125 non-null bool\n",
      "saleElapsed                         401125 non-null int64\n",
      "dtypes: bool(8), float64(2), int16(4), int64(13), int8(40)\n",
      "memory usage: 67.3 MB\n"
     ]
    }
   ],
   "source": [
    "model_data.info()"
   ]
  },
  {
   "cell_type": "markdown",
   "metadata": {},
   "source": [
    "#### Save as Feather"
   ]
  },
  {
   "cell_type": "code",
   "execution_count": 17,
   "metadata": {
    "scrolled": true
   },
   "outputs": [],
   "source": [
    "# %time interp_data.to_feather('tmp_data/interp_data')\n",
    "# %time model_data.to_feather('tmp_data/model_data')"
   ]
  },
  {
   "cell_type": "code",
   "execution_count": 18,
   "metadata": {},
   "outputs": [
    {
     "name": "stdout",
     "output_type": "stream",
     "text": [
      "CPU times: user 284 ms, sys: 205 ms, total: 489 ms\n",
      "Wall time: 943 ms\n",
      "CPU times: user 85.4 ms, sys: 132 ms, total: 217 ms\n",
      "Wall time: 515 ms\n"
     ]
    }
   ],
   "source": [
    "%time interp_data = pd.read_feather('tmp_data/interp_data')\n",
    "%time model_data = pd.read_feather('tmp_data/model_data')"
   ]
  },
  {
   "cell_type": "markdown",
   "metadata": {},
   "source": [
    "### Test on Model"
   ]
  },
  {
   "cell_type": "code",
   "execution_count": 19,
   "metadata": {},
   "outputs": [
    {
     "name": "stdout",
     "output_type": "stream",
     "text": [
      "CPU times: user 1min 47s, sys: 1.46 s, total: 1min 49s\n",
      "Wall time: 38.6 s\n"
     ]
    },
    {
     "data": {
      "text/plain": [
       "0.9824672333771376"
      ]
     },
     "execution_count": 19,
     "metadata": {},
     "output_type": "execute_result"
    }
   ],
   "source": [
    "X,y = model_data.drop('SalePrice',axis=1), model_data['SalePrice']\n",
    "\n",
    "model = RandomForestRegressor(n_jobs=-1)\n",
    "%time model.fit(X,y)\n",
    "model.score(X,y)"
   ]
  },
  {
   "cell_type": "markdown",
   "metadata": {},
   "source": [
    "## Phase 2:\n",
    "### Train/Test Split\n",
    "### Feature Importances\n",
    "### Remove non-predictive features\n",
    "### Remove redundant features\n",
    "### Test Model on Get Dummies to find important predictors within a category\n",
    "### Use Partial Dependency Plots\n",
    "### Extrapolate data "
   ]
  },
  {
   "cell_type": "code",
   "execution_count": null,
   "metadata": {},
   "outputs": [],
   "source": []
  }
 ],
 "metadata": {
  "kernelspec": {
   "display_name": "Python 3",
   "language": "python",
   "name": "python3"
  },
  "language_info": {
   "codemirror_mode": {
    "name": "ipython",
    "version": 3
   },
   "file_extension": ".py",
   "mimetype": "text/x-python",
   "name": "python",
   "nbconvert_exporter": "python",
   "pygments_lexer": "ipython3",
   "version": "3.6.6"
  }
 },
 "nbformat": 4,
 "nbformat_minor": 2
}
